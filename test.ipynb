{
 "cells": [
  {
   "cell_type": "code",
   "execution_count": 1,
   "metadata": {},
   "outputs": [],
   "source": [
    "import pandas as pd\n",
    "import csv\n",
    "import sys\n",
    "import os"
   ]
  },
  {
   "cell_type": "code",
   "execution_count": 16,
   "metadata": {},
   "outputs": [],
   "source": [
    "def assign_grade(percentage):\n",
    "    if percentage >= 90:\n",
    "        return 'A'\n",
    "    elif 80 <= percentage < 90:\n",
    "        return 'B'\n",
    "    elif 70 <= percentage < 80:\n",
    "        return 'C'\n",
    "    elif 60 <= percentage < 70:\n",
    "        return 'D'\n",
    "    else:\n",
    "        return 'F'"
   ]
  },
  {
   "cell_type": "code",
   "execution_count": 32,
   "metadata": {},
   "outputs": [
    {
     "data": {
      "text/plain": [
       "0     73.2\n",
       "1     69.8\n",
       "2     55.3\n",
       "3     69.6\n",
       "4     78.9\n",
       "5     71.4\n",
       "6     78.4\n",
       "7     80.8\n",
       "8     51.1\n",
       "9     81.6\n",
       "10    74.7\n",
       "11    82.0\n",
       "12    71.9\n",
       "13    77.4\n",
       "14    48.6\n",
       "15    69.8\n",
       "16    68.0\n",
       "17    69.2\n",
       "18    89.8\n",
       "19    69.8\n",
       "20    70.0\n",
       "21    83.1\n",
       "22    91.8\n",
       "23    70.5\n",
       "24    80.0\n",
       "25    72.5\n",
       "26    81.3\n",
       "27    86.4\n",
       "28    80.0\n",
       "29    70.0\n",
       "30    82.2\n",
       "31    69.0\n",
       "32    85.9\n",
       "33    68.6\n",
       "34    69.5\n",
       "35    81.3\n",
       "36    73.8\n",
       "37    73.2\n",
       "38    79.9\n",
       "39    83.3\n",
       "40    80.1\n",
       "41    71.2\n",
       "42    77.3\n",
       "43    82.0\n",
       "44    88.5\n",
       "45    83.0\n",
       "46    77.5\n",
       "47    46.1\n",
       "48    81.1\n",
       "49    59.7\n",
       "Name: Average_Score, dtype: float64"
      ]
     },
     "execution_count": 32,
     "metadata": {},
     "output_type": "execute_result"
    }
   ],
   "source": [
    "dataframe = pd.read_csv(\"semester 1/Class 10A Score.csv\")\n",
    "dataframe['Average_Score'] = dataframe.iloc[:, 2:].sum(axis=1) / 10\n",
    "dataframe['Grade'] = dataframe[\"Average_Score\"].apply(assign_grade)\n",
    "nA =(dataframe['Grade'] == 'A').sum()\n",
    "nF = (dataframe['Grade'] == 'F').sum()\n",
    "dataframe['Average_Score']\n",
    "# new_dataframe = dataframe[['Class', 'Average_Score', 'number of A', 'number of F']]\n",
    "\n",
    "# average_score = dataframe['Total_Score'].mean()\n",
    "# average_score\n"
   ]
  }
 ],
 "metadata": {
  "kernelspec": {
   "display_name": "Python 3",
   "language": "python",
   "name": "python3"
  },
  "language_info": {
   "codemirror_mode": {
    "name": "ipython",
    "version": 3
   },
   "file_extension": ".py",
   "mimetype": "text/x-python",
   "name": "python",
   "nbconvert_exporter": "python",
   "pygments_lexer": "ipython3",
   "version": "3.10.6"
  }
 },
 "nbformat": 4,
 "nbformat_minor": 2
}
